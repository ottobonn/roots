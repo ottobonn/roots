{
 "cells": [
  {
   "cell_type": "code",
   "execution_count": 22,
   "metadata": {
    "collapsed": false
   },
   "outputs": [],
   "source": [
    "import glob\n",
    "\n",
    "def print_users(glob, userfile):\n",
    "    for picture in glob:\n",
    "        user_id = picture.split('_')[0]\n",
    "        user_name = picture[3:-4].split('_')\n",
    "        first_name = user_name[0].title()\n",
    "        last_name = user_name[1].title()\n",
    "        userfile.write('  {' + '\\n')\n",
    "        userfile.write('\\t' + 'name: \"' + first_name + ' ' + last_name + '\",\\n')\n",
    "        userfile.write('\\t' + 'userID: ' + str(int(user_id)) + ',\\n')\n",
    "        userfile.write('\\t' + 'prof_pic: \"../images/people/users' + picture + '\",\\n')\n",
    "        userfile.write('  },' + '\\n')\n",
    "    \n",
    "with open('users.js', 'w') as userfile:\n",
    "    userfile.write('export default [' + '\\n')\n",
    "    print_users(glob.glob('*.jpg'), userfile)\n",
    "    userfile.write('];')\n"
   ]
  },
  {
   "cell_type": "code",
   "execution_count": null,
   "metadata": {
    "collapsed": true
   },
   "outputs": [],
   "source": []
  }
 ],
 "metadata": {
  "kernelspec": {
   "display_name": "Python 2",
   "language": "python",
   "name": "python2"
  },
  "language_info": {
   "codemirror_mode": {
    "name": "ipython",
    "version": 2
   },
   "file_extension": ".py",
   "mimetype": "text/x-python",
   "name": "python",
   "nbconvert_exporter": "python",
   "pygments_lexer": "ipython2",
   "version": "2.7.11"
  }
 },
 "nbformat": 4,
 "nbformat_minor": 0
}
